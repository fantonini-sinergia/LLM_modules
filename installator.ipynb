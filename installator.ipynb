{
 "cells": [
  {
   "cell_type": "code",
   "execution_count": 3,
   "metadata": {},
   "outputs": [
    {
     "name": "stdout",
     "output_type": "stream",
     "text": [
      "E\n"
     ]
    }
   ],
   "source": [
    "# with open('C:\\\\Users\\\\Sinergia EPC\\\\LLMs\\\\rag_chatbot_data\\\\Manuale Insta360 italiano.pdf', 'rb') as input_pdf_file:\n",
    "with open('\\\\\\\\192.168.1.90\\\\public\\\\Dear\\\\Manuali Linee\\\\M004\\\\599\\\\prescrizione\\\\prodotti_96164_man1.pdf', 'rb') as input_pdf_file:\n",
    "# with open(r'\\\\192.168.1.90\\public\\Dear\\Manuali Linee\\M004\\prodotti_96164_man1.pdf', 'rb') as input_pdf_file:\n",
    "    print(\"E\")"
   ]
  },
  {
   "cell_type": "code",
   "execution_count": 4,
   "metadata": {},
   "outputs": [
    {
     "name": "stdout",
     "output_type": "stream",
     "text": [
      "Collecting flask\n",
      "  Using cached flask-3.1.0-py3-none-any.whl.metadata (2.7 kB)\n",
      "Collecting Werkzeug>=3.1 (from flask)\n",
      "  Using cached werkzeug-3.1.3-py3-none-any.whl.metadata (3.7 kB)\n",
      "Requirement already satisfied: Jinja2>=3.1.2 in c:\\users\\filippoantonini\\miniconda3\\envs\\chatbot\\lib\\site-packages (from flask) (3.1.4)\n",
      "Collecting itsdangerous>=2.2 (from flask)\n",
      "  Using cached itsdangerous-2.2.0-py3-none-any.whl.metadata (1.9 kB)\n",
      "Requirement already satisfied: click>=8.1.3 in c:\\users\\filippoantonini\\miniconda3\\envs\\chatbot\\lib\\site-packages (from flask) (8.1.7)\n",
      "Collecting blinker>=1.9 (from flask)\n",
      "  Using cached blinker-1.9.0-py3-none-any.whl.metadata (1.6 kB)\n",
      "Requirement already satisfied: importlib-metadata>=3.6 in c:\\users\\filippoantonini\\miniconda3\\envs\\chatbot\\lib\\site-packages (from flask) (7.1.0)\n",
      "Requirement already satisfied: colorama in c:\\users\\filippoantonini\\miniconda3\\envs\\chatbot\\lib\\site-packages (from click>=8.1.3->flask) (0.4.6)\n",
      "Requirement already satisfied: zipp>=0.5 in c:\\users\\filippoantonini\\miniconda3\\envs\\chatbot\\lib\\site-packages (from importlib-metadata>=3.6->flask) (3.19.2)\n",
      "Requirement already satisfied: MarkupSafe>=2.0 in c:\\users\\filippoantonini\\miniconda3\\envs\\chatbot\\lib\\site-packages (from Jinja2>=3.1.2->flask) (2.1.5)\n",
      "Using cached flask-3.1.0-py3-none-any.whl (102 kB)\n",
      "Using cached blinker-1.9.0-py3-none-any.whl (8.5 kB)\n",
      "Using cached itsdangerous-2.2.0-py3-none-any.whl (16 kB)\n",
      "Using cached werkzeug-3.1.3-py3-none-any.whl (224 kB)\n",
      "Installing collected packages: Werkzeug, itsdangerous, blinker, flask\n",
      "Successfully installed Werkzeug-3.1.3 blinker-1.9.0 flask-3.1.0 itsdangerous-2.2.0\n",
      "Note: you may need to restart the kernel to use updated packages.\n"
     ]
    }
   ],
   "source": [
    "%pip install flask"
   ]
  }
 ],
 "metadata": {
  "kernelspec": {
   "display_name": "chatbot",
   "language": "python",
   "name": "python3"
  },
  "language_info": {
   "codemirror_mode": {
    "name": "ipython",
    "version": 3
   },
   "file_extension": ".py",
   "mimetype": "text/x-python",
   "name": "python",
   "nbconvert_exporter": "python",
   "pygments_lexer": "ipython3",
   "version": "3.9.19"
  }
 },
 "nbformat": 4,
 "nbformat_minor": 2
}
